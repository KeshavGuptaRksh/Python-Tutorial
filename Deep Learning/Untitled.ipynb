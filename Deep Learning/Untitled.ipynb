{
 "cells": [
  {
   "cell_type": "code",
   "execution_count": 20,
   "id": "b1fc0096-9c2f-4249-a8af-5dff4cb8c360",
   "metadata": {},
   "outputs": [],
   "source": [
    "import tensorflow as tf\n",
    "from keras.models import Sequential\n",
    "from keras.layers import LSTM, Dense, Embedding\n",
    "from keras.preprocessing.sequence import pad_sequences"
   ]
  },
  {
   "cell_type": "code",
   "execution_count": 22,
   "id": "8ff398e6-48da-44e1-a5fc-102ffe1433f3",
   "metadata": {},
   "outputs": [],
   "source": [
    "# Sample text data\n",
    "text = \"The quick brown fox jumps over the lazy dog. \"\n",
    "chars = sorted(list(set(text)))\n",
    "char_to_int = {c:i for i,c in enumerate(chars)}"
   ]
  },
  {
   "cell_type": "code",
   "execution_count": 24,
   "id": "95e20ae9-a77b-4e59-bb46-d2d4f5fdcb94",
   "metadata": {},
   "outputs": [],
   "source": [
    "# Prepare dataset\n",
    "seq_length = 10\n",
    "X = []; y = []\n",
    "for i in range(len(text) - seq_length):\n",
    "    seq_in = text[i:i + seq_length]\n",
    "    seq_out = text[i + seq_length]\n",
    "    X.append([char_to_int[char] for char in seq_in])\n",
    "    y.append(char_to_int[seq_out])"
   ]
  },
  {
   "cell_type": "code",
   "execution_count": 30,
   "id": "300e0b76-1349-4391-a8c8-38207b65c0c5",
   "metadata": {},
   "outputs": [],
   "source": [
    "# Build model\n",
    "model = Sequential([\n",
    "    Embedding(len(chars), 50),\n",
    "    LSTM(100, return_sequences=True),\n",
    "    LSTM(100),\n",
    "    Dense(len(chars), activation='softmax')\n",
    "])\n",
    "model.compile(loss='sparse_categorical_crossentropy', optimizer='adam')"
   ]
  },
  {
   "cell_type": "code",
   "execution_count": 32,
   "id": "16efee9f-b848-4d4c-9a4a-d30ce44a0175",
   "metadata": {},
   "outputs": [
    {
     "ename": "ValueError",
     "evalue": "Unrecognized data type: x=[[[ 2]\n  [10]\n  [ 7]\n  [ 0]\n  [19]\n  [23]\n  [11]\n  [ 5]\n  [13]\n  [ 0]]\n\n [[10]\n  [ 7]\n  [ 0]\n  [19]\n  [23]\n  [11]\n  [ 5]\n  [13]\n  [ 0]\n  [ 4]]\n\n [[ 7]\n  [ 0]\n  [19]\n  [23]\n  [11]\n  [ 5]\n  [13]\n  [ 0]\n  [ 4]\n  [20]]\n\n [[ 0]\n  [19]\n  [23]\n  [11]\n  [ 5]\n  [13]\n  [ 0]\n  [ 4]\n  [20]\n  [17]]\n\n [[19]\n  [23]\n  [11]\n  [ 5]\n  [13]\n  [ 0]\n  [ 4]\n  [20]\n  [17]\n  [25]]\n\n [[23]\n  [11]\n  [ 5]\n  [13]\n  [ 0]\n  [ 4]\n  [20]\n  [17]\n  [25]\n  [16]]\n\n [[11]\n  [ 5]\n  [13]\n  [ 0]\n  [ 4]\n  [20]\n  [17]\n  [25]\n  [16]\n  [ 0]]\n\n [[ 5]\n  [13]\n  [ 0]\n  [ 4]\n  [20]\n  [17]\n  [25]\n  [16]\n  [ 0]\n  [ 8]]\n\n [[13]\n  [ 0]\n  [ 4]\n  [20]\n  [17]\n  [25]\n  [16]\n  [ 0]\n  [ 8]\n  [17]]\n\n [[ 0]\n  [ 4]\n  [20]\n  [17]\n  [25]\n  [16]\n  [ 0]\n  [ 8]\n  [17]\n  [26]]\n\n [[ 4]\n  [20]\n  [17]\n  [25]\n  [16]\n  [ 0]\n  [ 8]\n  [17]\n  [26]\n  [ 0]]\n\n [[20]\n  [17]\n  [25]\n  [16]\n  [ 0]\n  [ 8]\n  [17]\n  [26]\n  [ 0]\n  [12]]\n\n [[17]\n  [25]\n  [16]\n  [ 0]\n  [ 8]\n  [17]\n  [26]\n  [ 0]\n  [12]\n  [23]]\n\n [[25]\n  [16]\n  [ 0]\n  [ 8]\n  [17]\n  [26]\n  [ 0]\n  [12]\n  [23]\n  [15]]\n\n [[16]\n  [ 0]\n  [ 8]\n  [17]\n  [26]\n  [ 0]\n  [12]\n  [23]\n  [15]\n  [18]]\n\n [[ 0]\n  [ 8]\n  [17]\n  [26]\n  [ 0]\n  [12]\n  [23]\n  [15]\n  [18]\n  [21]]\n\n [[ 8]\n  [17]\n  [26]\n  [ 0]\n  [12]\n  [23]\n  [15]\n  [18]\n  [21]\n  [ 0]]\n\n [[17]\n  [26]\n  [ 0]\n  [12]\n  [23]\n  [15]\n  [18]\n  [21]\n  [ 0]\n  [17]]\n\n [[26]\n  [ 0]\n  [12]\n  [23]\n  [15]\n  [18]\n  [21]\n  [ 0]\n  [17]\n  [24]]\n\n [[ 0]\n  [12]\n  [23]\n  [15]\n  [18]\n  [21]\n  [ 0]\n  [17]\n  [24]\n  [ 7]]\n\n [[12]\n  [23]\n  [15]\n  [18]\n  [21]\n  [ 0]\n  [17]\n  [24]\n  [ 7]\n  [20]]\n\n [[23]\n  [15]\n  [18]\n  [21]\n  [ 0]\n  [17]\n  [24]\n  [ 7]\n  [20]\n  [ 0]]\n\n [[15]\n  [18]\n  [21]\n  [ 0]\n  [17]\n  [24]\n  [ 7]\n  [20]\n  [ 0]\n  [22]]\n\n [[18]\n  [21]\n  [ 0]\n  [17]\n  [24]\n  [ 7]\n  [20]\n  [ 0]\n  [22]\n  [10]]\n\n [[21]\n  [ 0]\n  [17]\n  [24]\n  [ 7]\n  [20]\n  [ 0]\n  [22]\n  [10]\n  [ 7]]\n\n [[ 0]\n  [17]\n  [24]\n  [ 7]\n  [20]\n  [ 0]\n  [22]\n  [10]\n  [ 7]\n  [ 0]]\n\n [[17]\n  [24]\n  [ 7]\n  [20]\n  [ 0]\n  [22]\n  [10]\n  [ 7]\n  [ 0]\n  [14]]\n\n [[24]\n  [ 7]\n  [20]\n  [ 0]\n  [22]\n  [10]\n  [ 7]\n  [ 0]\n  [14]\n  [ 3]]\n\n [[ 7]\n  [20]\n  [ 0]\n  [22]\n  [10]\n  [ 7]\n  [ 0]\n  [14]\n  [ 3]\n  [28]]\n\n [[20]\n  [ 0]\n  [22]\n  [10]\n  [ 7]\n  [ 0]\n  [14]\n  [ 3]\n  [28]\n  [27]]\n\n [[ 0]\n  [22]\n  [10]\n  [ 7]\n  [ 0]\n  [14]\n  [ 3]\n  [28]\n  [27]\n  [ 0]]\n\n [[22]\n  [10]\n  [ 7]\n  [ 0]\n  [14]\n  [ 3]\n  [28]\n  [27]\n  [ 0]\n  [ 6]]\n\n [[10]\n  [ 7]\n  [ 0]\n  [14]\n  [ 3]\n  [28]\n  [27]\n  [ 0]\n  [ 6]\n  [17]]\n\n [[ 7]\n  [ 0]\n  [14]\n  [ 3]\n  [28]\n  [27]\n  [ 0]\n  [ 6]\n  [17]\n  [ 9]]\n\n [[ 0]\n  [14]\n  [ 3]\n  [28]\n  [27]\n  [ 0]\n  [ 6]\n  [17]\n  [ 9]\n  [ 1]]] (of type <class 'tensorflow.python.framework.ops.EagerTensor'>)",
     "output_type": "error",
     "traceback": [
      "\u001b[0;31m---------------------------------------------------------------------------\u001b[0m",
      "\u001b[0;31mValueError\u001b[0m                                Traceback (most recent call last)",
      "Cell \u001b[0;32mIn[32], line 2\u001b[0m\n\u001b[1;32m      1\u001b[0m \u001b[38;5;66;03m# Train model\u001b[39;00m\n\u001b[0;32m----> 2\u001b[0m model\u001b[38;5;241m.\u001b[39mfit(tf\u001b[38;5;241m.\u001b[39mexpand_dims(X, \u001b[38;5;241m-\u001b[39m\u001b[38;5;241m1\u001b[39m), y, epochs\u001b[38;5;241m=\u001b[39m\u001b[38;5;241m100\u001b[39m, batch_size\u001b[38;5;241m=\u001b[39m\u001b[38;5;241m32\u001b[39m)\n",
      "File \u001b[0;32m/opt/anaconda3/lib/python3.12/site-packages/keras/src/utils/traceback_utils.py:122\u001b[0m, in \u001b[0;36mfilter_traceback.<locals>.error_handler\u001b[0;34m(*args, **kwargs)\u001b[0m\n\u001b[1;32m    119\u001b[0m     filtered_tb \u001b[38;5;241m=\u001b[39m _process_traceback_frames(e\u001b[38;5;241m.\u001b[39m__traceback__)\n\u001b[1;32m    120\u001b[0m     \u001b[38;5;66;03m# To get the full stack trace, call:\u001b[39;00m\n\u001b[1;32m    121\u001b[0m     \u001b[38;5;66;03m# `keras.config.disable_traceback_filtering()`\u001b[39;00m\n\u001b[0;32m--> 122\u001b[0m     \u001b[38;5;28;01mraise\u001b[39;00m e\u001b[38;5;241m.\u001b[39mwith_traceback(filtered_tb) \u001b[38;5;28;01mfrom\u001b[39;00m \u001b[38;5;28;01mNone\u001b[39;00m\n\u001b[1;32m    123\u001b[0m \u001b[38;5;28;01mfinally\u001b[39;00m:\n\u001b[1;32m    124\u001b[0m     \u001b[38;5;28;01mdel\u001b[39;00m filtered_tb\n",
      "File \u001b[0;32m/opt/anaconda3/lib/python3.12/site-packages/keras/src/trainers/data_adapters/__init__.py:120\u001b[0m, in \u001b[0;36mget_data_adapter\u001b[0;34m(x, y, sample_weight, batch_size, steps_per_epoch, shuffle, class_weight)\u001b[0m\n\u001b[1;32m    112\u001b[0m     \u001b[38;5;28;01mreturn\u001b[39;00m GeneratorDataAdapter(x)\n\u001b[1;32m    113\u001b[0m     \u001b[38;5;66;03m# TODO: should we warn or not?\u001b[39;00m\n\u001b[1;32m    114\u001b[0m     \u001b[38;5;66;03m# warnings.warn(\u001b[39;00m\n\u001b[1;32m    115\u001b[0m     \u001b[38;5;66;03m#     \"`shuffle=True` was passed, but will be ignored since the \"\u001b[39;00m\n\u001b[0;32m   (...)\u001b[0m\n\u001b[1;32m    118\u001b[0m     \u001b[38;5;66;03m# )\u001b[39;00m\n\u001b[1;32m    119\u001b[0m \u001b[38;5;28;01melse\u001b[39;00m:\n\u001b[0;32m--> 120\u001b[0m     \u001b[38;5;28;01mraise\u001b[39;00m \u001b[38;5;167;01mValueError\u001b[39;00m(\u001b[38;5;124mf\u001b[39m\u001b[38;5;124m\"\u001b[39m\u001b[38;5;124mUnrecognized data type: x=\u001b[39m\u001b[38;5;132;01m{\u001b[39;00mx\u001b[38;5;132;01m}\u001b[39;00m\u001b[38;5;124m (of type \u001b[39m\u001b[38;5;132;01m{\u001b[39;00m\u001b[38;5;28mtype\u001b[39m(x)\u001b[38;5;132;01m}\u001b[39;00m\u001b[38;5;124m)\u001b[39m\u001b[38;5;124m\"\u001b[39m)\n",
      "\u001b[0;31mValueError\u001b[0m: Unrecognized data type: x=[[[ 2]\n  [10]\n  [ 7]\n  [ 0]\n  [19]\n  [23]\n  [11]\n  [ 5]\n  [13]\n  [ 0]]\n\n [[10]\n  [ 7]\n  [ 0]\n  [19]\n  [23]\n  [11]\n  [ 5]\n  [13]\n  [ 0]\n  [ 4]]\n\n [[ 7]\n  [ 0]\n  [19]\n  [23]\n  [11]\n  [ 5]\n  [13]\n  [ 0]\n  [ 4]\n  [20]]\n\n [[ 0]\n  [19]\n  [23]\n  [11]\n  [ 5]\n  [13]\n  [ 0]\n  [ 4]\n  [20]\n  [17]]\n\n [[19]\n  [23]\n  [11]\n  [ 5]\n  [13]\n  [ 0]\n  [ 4]\n  [20]\n  [17]\n  [25]]\n\n [[23]\n  [11]\n  [ 5]\n  [13]\n  [ 0]\n  [ 4]\n  [20]\n  [17]\n  [25]\n  [16]]\n\n [[11]\n  [ 5]\n  [13]\n  [ 0]\n  [ 4]\n  [20]\n  [17]\n  [25]\n  [16]\n  [ 0]]\n\n [[ 5]\n  [13]\n  [ 0]\n  [ 4]\n  [20]\n  [17]\n  [25]\n  [16]\n  [ 0]\n  [ 8]]\n\n [[13]\n  [ 0]\n  [ 4]\n  [20]\n  [17]\n  [25]\n  [16]\n  [ 0]\n  [ 8]\n  [17]]\n\n [[ 0]\n  [ 4]\n  [20]\n  [17]\n  [25]\n  [16]\n  [ 0]\n  [ 8]\n  [17]\n  [26]]\n\n [[ 4]\n  [20]\n  [17]\n  [25]\n  [16]\n  [ 0]\n  [ 8]\n  [17]\n  [26]\n  [ 0]]\n\n [[20]\n  [17]\n  [25]\n  [16]\n  [ 0]\n  [ 8]\n  [17]\n  [26]\n  [ 0]\n  [12]]\n\n [[17]\n  [25]\n  [16]\n  [ 0]\n  [ 8]\n  [17]\n  [26]\n  [ 0]\n  [12]\n  [23]]\n\n [[25]\n  [16]\n  [ 0]\n  [ 8]\n  [17]\n  [26]\n  [ 0]\n  [12]\n  [23]\n  [15]]\n\n [[16]\n  [ 0]\n  [ 8]\n  [17]\n  [26]\n  [ 0]\n  [12]\n  [23]\n  [15]\n  [18]]\n\n [[ 0]\n  [ 8]\n  [17]\n  [26]\n  [ 0]\n  [12]\n  [23]\n  [15]\n  [18]\n  [21]]\n\n [[ 8]\n  [17]\n  [26]\n  [ 0]\n  [12]\n  [23]\n  [15]\n  [18]\n  [21]\n  [ 0]]\n\n [[17]\n  [26]\n  [ 0]\n  [12]\n  [23]\n  [15]\n  [18]\n  [21]\n  [ 0]\n  [17]]\n\n [[26]\n  [ 0]\n  [12]\n  [23]\n  [15]\n  [18]\n  [21]\n  [ 0]\n  [17]\n  [24]]\n\n [[ 0]\n  [12]\n  [23]\n  [15]\n  [18]\n  [21]\n  [ 0]\n  [17]\n  [24]\n  [ 7]]\n\n [[12]\n  [23]\n  [15]\n  [18]\n  [21]\n  [ 0]\n  [17]\n  [24]\n  [ 7]\n  [20]]\n\n [[23]\n  [15]\n  [18]\n  [21]\n  [ 0]\n  [17]\n  [24]\n  [ 7]\n  [20]\n  [ 0]]\n\n [[15]\n  [18]\n  [21]\n  [ 0]\n  [17]\n  [24]\n  [ 7]\n  [20]\n  [ 0]\n  [22]]\n\n [[18]\n  [21]\n  [ 0]\n  [17]\n  [24]\n  [ 7]\n  [20]\n  [ 0]\n  [22]\n  [10]]\n\n [[21]\n  [ 0]\n  [17]\n  [24]\n  [ 7]\n  [20]\n  [ 0]\n  [22]\n  [10]\n  [ 7]]\n\n [[ 0]\n  [17]\n  [24]\n  [ 7]\n  [20]\n  [ 0]\n  [22]\n  [10]\n  [ 7]\n  [ 0]]\n\n [[17]\n  [24]\n  [ 7]\n  [20]\n  [ 0]\n  [22]\n  [10]\n  [ 7]\n  [ 0]\n  [14]]\n\n [[24]\n  [ 7]\n  [20]\n  [ 0]\n  [22]\n  [10]\n  [ 7]\n  [ 0]\n  [14]\n  [ 3]]\n\n [[ 7]\n  [20]\n  [ 0]\n  [22]\n  [10]\n  [ 7]\n  [ 0]\n  [14]\n  [ 3]\n  [28]]\n\n [[20]\n  [ 0]\n  [22]\n  [10]\n  [ 7]\n  [ 0]\n  [14]\n  [ 3]\n  [28]\n  [27]]\n\n [[ 0]\n  [22]\n  [10]\n  [ 7]\n  [ 0]\n  [14]\n  [ 3]\n  [28]\n  [27]\n  [ 0]]\n\n [[22]\n  [10]\n  [ 7]\n  [ 0]\n  [14]\n  [ 3]\n  [28]\n  [27]\n  [ 0]\n  [ 6]]\n\n [[10]\n  [ 7]\n  [ 0]\n  [14]\n  [ 3]\n  [28]\n  [27]\n  [ 0]\n  [ 6]\n  [17]]\n\n [[ 7]\n  [ 0]\n  [14]\n  [ 3]\n  [28]\n  [27]\n  [ 0]\n  [ 6]\n  [17]\n  [ 9]]\n\n [[ 0]\n  [14]\n  [ 3]\n  [28]\n  [27]\n  [ 0]\n  [ 6]\n  [17]\n  [ 9]\n  [ 1]]] (of type <class 'tensorflow.python.framework.ops.EagerTensor'>)"
     ]
    }
   ],
   "source": [
    "# Train model\n",
    "model.fit(tf.expand_dims(X, -1), y, epochs=100, batch_size=32)"
   ]
  },
  {
   "cell_type": "code",
   "execution_count": 34,
   "id": "ee8b16fd-a348-4ded-8792-c5c789093f24",
   "metadata": {},
   "outputs": [
    {
     "ename": "NameError",
     "evalue": "name 'np' is not defined",
     "output_type": "error",
     "traceback": [
      "\u001b[0;31m---------------------------------------------------------------------------\u001b[0m",
      "\u001b[0;31mNameError\u001b[0m                                 Traceback (most recent call last)",
      "Cell \u001b[0;32mIn[34], line 13\u001b[0m\n\u001b[1;32m     10\u001b[0m         seed \u001b[38;5;241m=\u001b[39m seed[\u001b[38;5;241m1\u001b[39m:] \u001b[38;5;241m+\u001b[39m chars[index]\n\u001b[1;32m     11\u001b[0m     \u001b[38;5;28;01mreturn\u001b[39;00m result\n\u001b[0;32m---> 13\u001b[0m \u001b[38;5;28mprint\u001b[39m(generate_text(\u001b[38;5;124m\"\u001b[39m\u001b[38;5;124mThe quick \u001b[39m\u001b[38;5;124m\"\u001b[39m, \u001b[38;5;241m50\u001b[39m))\n",
      "Cell \u001b[0;32mIn[34], line 8\u001b[0m, in \u001b[0;36mgenerate_text\u001b[0;34m(seed, n_chars)\u001b[0m\n\u001b[1;32m      6\u001b[0m x \u001b[38;5;241m=\u001b[39m pad_sequences([x], maxlen\u001b[38;5;241m=\u001b[39mseq_length)\n\u001b[1;32m      7\u001b[0m pred \u001b[38;5;241m=\u001b[39m model\u001b[38;5;241m.\u001b[39mpredict(x, verbose\u001b[38;5;241m=\u001b[39m\u001b[38;5;241m0\u001b[39m)\n\u001b[0;32m----> 8\u001b[0m index \u001b[38;5;241m=\u001b[39m np\u001b[38;5;241m.\u001b[39margmax(pred)\n\u001b[1;32m      9\u001b[0m result \u001b[38;5;241m+\u001b[39m\u001b[38;5;241m=\u001b[39m chars[index]\n\u001b[1;32m     10\u001b[0m seed \u001b[38;5;241m=\u001b[39m seed[\u001b[38;5;241m1\u001b[39m:] \u001b[38;5;241m+\u001b[39m chars[index]\n",
      "\u001b[0;31mNameError\u001b[0m: name 'np' is not defined"
     ]
    }
   ],
   "source": [
    "# Generate text\n",
    "def generate_text(seed, n_chars):\n",
    "    result = seed\n",
    "    for _ in range(n_chars):\n",
    "        x = [char_to_int[c] for c in seed]\n",
    "        x = pad_sequences([x], maxlen=seq_length)\n",
    "        pred = model.predict(x, verbose=0)\n",
    "        index = np.argmax(pred)\n",
    "        result += chars[index]\n",
    "        seed = seed[1:] + chars[index]\n",
    "    return result\n",
    "\n",
    "print(generate_text(\"The quick \", 50))"
   ]
  }
 ],
 "metadata": {
  "kernelspec": {
   "display_name": "Python [conda env:base] *",
   "language": "python",
   "name": "conda-base-py"
  },
  "language_info": {
   "codemirror_mode": {
    "name": "ipython",
    "version": 3
   },
   "file_extension": ".py",
   "mimetype": "text/x-python",
   "name": "python",
   "nbconvert_exporter": "python",
   "pygments_lexer": "ipython3",
   "version": "3.12.7"
  }
 },
 "nbformat": 4,
 "nbformat_minor": 5
}
